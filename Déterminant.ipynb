{
  "cells": [
    {
      "cell_type": "markdown",
      "metadata": {
        "id": "view-in-github",
        "colab_type": "text"
      },
      "source": [
        "<a href=\"https://colab.research.google.com/github/fereshtehdehkhoda/Example-12-D-terminant/blob/main/D%C3%A9terminant.ipynb\" target=\"_parent\"><img src=\"https://colab.research.google.com/assets/colab-badge.svg\" alt=\"Open In Colab\"/></a>"
      ]
    },
    {
      "cell_type": "markdown",
      "id": "de2228c8-eed1-4c69-aa02-692f0f88268e",
      "metadata": {
        "id": "de2228c8-eed1-4c69-aa02-692f0f88268e"
      },
      "source": [
        "# Déterminant"
      ]
    },
    {
      "cell_type": "code",
      "execution_count": null,
      "id": "122be113-0939-4059-be64-52fcf3bf5582",
      "metadata": {
        "id": "122be113-0939-4059-be64-52fcf3bf5582"
      },
      "outputs": [],
      "source": [
        "# دترمینان وارون ماتریس A"
      ]
    },
    {
      "cell_type": "code",
      "execution_count": null,
      "id": "5008af07-893d-4533-8f8e-eda424420da6",
      "metadata": {
        "id": "5008af07-893d-4533-8f8e-eda424420da6"
      },
      "outputs": [],
      "source": [
        "import numpy as np"
      ]
    },
    {
      "cell_type": "code",
      "execution_count": null,
      "id": "9f75f748-8936-4cae-8bc6-e22761cb0af2",
      "metadata": {
        "id": "9f75f748-8936-4cae-8bc6-e22761cb0af2",
        "outputId": "e51ad67a-ae7e-49b9-8ca0-fa7243cd1841"
      },
      "outputs": [
        {
          "data": {
            "text/plain": [
              "array([[ 2, -1,  1],\n",
              "       [ 0, -1,  1],\n",
              "       [-1,  1,  0]])"
            ]
          },
          "execution_count": 14,
          "metadata": {},
          "output_type": "execute_result"
        }
      ],
      "source": [
        "A=np.array([[2,-1,1],[0,-1,1],[-1,1,0]])\n",
        "A"
      ]
    },
    {
      "cell_type": "code",
      "execution_count": null,
      "id": "7387421e-38e3-42be-88f2-61d27ee567bb",
      "metadata": {
        "id": "7387421e-38e3-42be-88f2-61d27ee567bb",
        "outputId": "9755956d-7416-4914-e2f2-ae21ae61bff8"
      },
      "outputs": [
        {
          "data": {
            "text/plain": [
              "-0.5"
            ]
          },
          "execution_count": 18,
          "metadata": {},
          "output_type": "execute_result"
        }
      ],
      "source": [
        "A_inv=np.linalg.inv(A)\n",
        "np.linalg.det(A_inv)"
      ]
    }
  ],
  "metadata": {
    "kernelspec": {
      "display_name": "Python 3 (ipykernel)",
      "language": "python",
      "name": "python3"
    },
    "language_info": {
      "codemirror_mode": {
        "name": "ipython",
        "version": 3
      },
      "file_extension": ".py",
      "mimetype": "text/x-python",
      "name": "python",
      "nbconvert_exporter": "python",
      "pygments_lexer": "ipython3",
      "version": "3.12.4"
    },
    "colab": {
      "provenance": [],
      "include_colab_link": true
    }
  },
  "nbformat": 4,
  "nbformat_minor": 5
}